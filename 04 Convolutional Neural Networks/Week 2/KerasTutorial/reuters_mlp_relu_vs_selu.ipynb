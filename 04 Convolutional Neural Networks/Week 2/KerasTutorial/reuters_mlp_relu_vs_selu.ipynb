{
 "cells": [
  {
   "cell_type": "code",
   "execution_count": 1,
   "metadata": {},
   "outputs": [
    {
     "name": "stderr",
     "output_type": "stream",
     "text": [
      "Using TensorFlow backend.\n"
     ]
    }
   ],
   "source": [
    "import numpy as np\n",
    "import matplotlib.pyplot as plt\n",
    "\n",
    "from keras.datasets import reuters\n",
    "from keras.models import Sequential\n",
    "from keras.layers import Dense, Activation, Dropout\n",
    "from keras.layers.noise import AlphaDropout\n",
    "from keras.preprocessing.text import Tokenizer\n",
    "from keras.utils import to_categorical\n",
    "\n",
    "%matplotlib inline"
   ]
  },
  {
   "cell_type": "code",
   "execution_count": 2,
   "metadata": {
    "collapsed": true
   },
   "outputs": [],
   "source": [
    "max_words = 1000\n",
    "batch_size = 16\n",
    "epochs = 40"
   ]
  },
  {
   "cell_type": "markdown",
   "metadata": {},
   "source": [
    "### 载入数据集"
   ]
  },
  {
   "cell_type": "code",
   "execution_count": 3,
   "metadata": {},
   "outputs": [
    {
     "name": "stdout",
     "output_type": "stream",
     "text": [
      "8982 train sequences\n",
      "2246 test sequences\n"
     ]
    }
   ],
   "source": [
    "(x_train, y_train), (x_test, y_test) = reuters.load_data(num_words=max_words,\n",
    "                                                         test_split=0.2)\n",
    "print(len(x_train), 'train sequences')\n",
    "print(len(x_test), 'test sequences')"
   ]
  },
  {
   "cell_type": "code",
   "execution_count": 4,
   "metadata": {},
   "outputs": [
    {
     "name": "stdout",
     "output_type": "stream",
     "text": [
      "46 classes\n"
     ]
    }
   ],
   "source": [
    "num_classes = np.max(y_train) + 1\n",
    "print(num_classes, 'classes')"
   ]
  },
  {
   "cell_type": "code",
   "execution_count": 5,
   "metadata": {},
   "outputs": [
    {
     "name": "stdout",
     "output_type": "stream",
     "text": [
      "x_train shape: (8982, 1000)\n",
      "x_test shape: (2246, 1000)\n"
     ]
    }
   ],
   "source": [
    "# Vectorizing sequence data\n",
    "tokenizer = Tokenizer(num_words=max_words)\n",
    "x_train = tokenizer.sequences_to_matrix(x_train, mode='binary')\n",
    "x_test = tokenizer.sequences_to_matrix(x_test, mode='binary')\n",
    "print('x_train shape:', x_train.shape)\n",
    "print('x_test shape:', x_test.shape)"
   ]
  },
  {
   "cell_type": "code",
   "execution_count": 6,
   "metadata": {},
   "outputs": [
    {
     "name": "stdout",
     "output_type": "stream",
     "text": [
      "y_train shape: (8982, 46)\n",
      "y_test shape: (2246, 46)\n"
     ]
    }
   ],
   "source": [
    "# Convert class vector to binary class matrix (for use with categorical_crossentropy)\n",
    "y_train = to_categorical(y_train, num_classes)\n",
    "y_test = to_categorical(y_test, num_classes)\n",
    "print('y_train shape:', y_train.shape)\n",
    "print('y_test shape:', y_test.shape)"
   ]
  },
  {
   "cell_type": "markdown",
   "metadata": {},
   "source": [
    "### 建模"
   ]
  },
  {
   "cell_type": "code",
   "execution_count": 7,
   "metadata": {
    "collapsed": true
   },
   "outputs": [],
   "source": [
    "def create_network(n_dense=6,\n",
    "                   dense_units=16,\n",
    "                   activation='selu',\n",
    "                   dropout=AlphaDropout,\n",
    "                   dropout_rate=0.1,\n",
    "                   kernel_initializer='lecun_normal',\n",
    "                   optimizer='adam',\n",
    "                   num_classes=1,\n",
    "                   max_words=max_words):\n",
    "    \"\"\"Generic function to create a fully-connected neural network.\n",
    "    # Arguments\n",
    "        n_dense: int > 0. Number of dense layers.\n",
    "        dense_units: int > 0. Number of dense units per layer.\n",
    "        dropout: keras.layers.Layer. A dropout layer to apply.\n",
    "        dropout_rate: 0 <= float <= 1. The rate of dropout.\n",
    "        kernel_initializer: str. The initializer for the weights.\n",
    "        optimizer: str/keras.optimizers.Optimizer. The optimizer to use.\n",
    "        num_classes: int > 0. The number of classes to predict.\n",
    "        max_words: int > 0. The maximum number of words per data point.\n",
    "    # Returns\n",
    "        A Keras model instance (compiled).\n",
    "    \"\"\"\n",
    "    model = Sequential()\n",
    "    model.add(Dense(dense_units, input_shape=(max_words,),\n",
    "                    kernel_initializer=kernel_initializer))\n",
    "    model.add(Activation(activation))\n",
    "    model.add(dropout(dropout_rate))\n",
    "\n",
    "    for i in range(n_dense - 1):\n",
    "        model.add(Dense(dense_units, kernel_initializer=kernel_initializer))\n",
    "        model.add(Activation(activation))\n",
    "        model.add(dropout(dropout_rate))\n",
    "\n",
    "    model.add(Dense(num_classes))\n",
    "    model.add(Activation('softmax'))\n",
    "    model.compile(loss='categorical_crossentropy',\n",
    "                  optimizer=optimizer,\n",
    "                  metrics=['accuracy'])\n",
    "    return model"
   ]
  },
  {
   "cell_type": "code",
   "execution_count": 8,
   "metadata": {
    "collapsed": true
   },
   "outputs": [],
   "source": [
    "network1 = {\n",
    "    'n_dense': 6,\n",
    "    'dense_units': 16,\n",
    "    'activation': 'relu',\n",
    "    'dropout': Dropout,\n",
    "    'dropout_rate': 0.5,\n",
    "    'kernel_initializer': 'glorot_uniform',\n",
    "    'optimizer': 'sgd'\n",
    "}\n",
    "\n",
    "network2 = {\n",
    "    'n_dense': 6,\n",
    "    'dense_units': 16,\n",
    "    'activation': 'selu',\n",
    "    'dropout': Dropout,\n",
    "    'dropout_rate': 0.1,\n",
    "    'kernel_initializer': 'lecun_normal',\n",
    "    'optimizer': 'adam'\n",
    "}"
   ]
  },
  {
   "cell_type": "markdown",
   "metadata": {},
   "source": [
    "### 训练模型1"
   ]
  },
  {
   "cell_type": "code",
   "execution_count": 9,
   "metadata": {
    "collapsed": true
   },
   "outputs": [],
   "source": [
    "model1 = create_network(num_classes=num_classes, **network1)"
   ]
  },
  {
   "cell_type": "code",
   "execution_count": 10,
   "metadata": {},
   "outputs": [
    {
     "name": "stdout",
     "output_type": "stream",
     "text": [
      "Train on 8083 samples, validate on 899 samples\n",
      "Epoch 1/40\n",
      "8083/8083 [==============================] - 1s 139us/step - loss: 2.2452 - acc: 0.4693 - val_loss: 1.6036 - val_acc: 0.6073\n",
      "Epoch 2/40\n",
      "8083/8083 [==============================] - 1s 83us/step - loss: 1.6952 - acc: 0.5921 - val_loss: 1.4251 - val_acc: 0.6518\n",
      "Epoch 3/40\n",
      "8083/8083 [==============================] - 1s 84us/step - loss: 1.5195 - acc: 0.6319 - val_loss: 1.3283 - val_acc: 0.6852\n",
      "Epoch 4/40\n",
      "8083/8083 [==============================] - 1s 82us/step - loss: 1.4148 - acc: 0.6602 - val_loss: 1.2950 - val_acc: 0.6897\n",
      "Epoch 5/40\n",
      "8083/8083 [==============================] - 1s 84us/step - loss: 1.3579 - acc: 0.6722 - val_loss: 1.2621 - val_acc: 0.6963\n",
      "Epoch 6/40\n",
      "8083/8083 [==============================] - 1s 85us/step - loss: 1.2933 - acc: 0.6853 - val_loss: 1.2419 - val_acc: 0.6997\n",
      "Epoch 7/40\n",
      "8083/8083 [==============================] - 1s 82us/step - loss: 1.2554 - acc: 0.6916 - val_loss: 1.2320 - val_acc: 0.7097\n",
      "Epoch 8/40\n",
      "8083/8083 [==============================] - 1s 82us/step - loss: 1.2204 - acc: 0.6996 - val_loss: 1.2237 - val_acc: 0.7119\n",
      "Epoch 9/40\n",
      "8083/8083 [==============================] - 1s 82us/step - loss: 1.1897 - acc: 0.7083 - val_loss: 1.2271 - val_acc: 0.7219\n",
      "Epoch 10/40\n",
      "8083/8083 [==============================] - 1s 85us/step - loss: 1.1727 - acc: 0.7120 - val_loss: 1.2422 - val_acc: 0.7097\n",
      "Epoch 11/40\n",
      "8083/8083 [==============================] - 1s 88us/step - loss: 1.1375 - acc: 0.7235 - val_loss: 1.2109 - val_acc: 0.7175\n",
      "Epoch 12/40\n",
      "8083/8083 [==============================] - 1s 82us/step - loss: 1.1331 - acc: 0.7193 - val_loss: 1.2262 - val_acc: 0.7230\n",
      "Epoch 13/40\n",
      "8083/8083 [==============================] - 1s 82us/step - loss: 1.1129 - acc: 0.7273 - val_loss: 1.2173 - val_acc: 0.7175\n",
      "Epoch 14/40\n",
      "8083/8083 [==============================] - 1s 83us/step - loss: 1.0928 - acc: 0.7262 - val_loss: 1.2382 - val_acc: 0.7197\n",
      "Epoch 15/40\n",
      "8083/8083 [==============================] - 1s 86us/step - loss: 1.0819 - acc: 0.7352 - val_loss: 1.2171 - val_acc: 0.7119\n",
      "Epoch 16/40\n",
      "8083/8083 [==============================] - 1s 84us/step - loss: 1.0633 - acc: 0.7359 - val_loss: 1.2215 - val_acc: 0.7086\n",
      "Epoch 17/40\n",
      "8083/8083 [==============================] - 1s 84us/step - loss: 1.0462 - acc: 0.7411 - val_loss: 1.2403 - val_acc: 0.7164\n",
      "Epoch 18/40\n",
      "8083/8083 [==============================] - 1s 83us/step - loss: 1.0416 - acc: 0.7427 - val_loss: 1.2298 - val_acc: 0.7208\n",
      "Epoch 19/40\n",
      "8083/8083 [==============================] - 1s 82us/step - loss: 1.0303 - acc: 0.7427 - val_loss: 1.2309 - val_acc: 0.7219\n",
      "Epoch 20/40\n",
      "8083/8083 [==============================] - 1s 88us/step - loss: 1.0159 - acc: 0.7484 - val_loss: 1.2477 - val_acc: 0.7230\n",
      "Epoch 21/40\n",
      "8083/8083 [==============================] - 1s 82us/step - loss: 1.0228 - acc: 0.7489 - val_loss: 1.2108 - val_acc: 0.7286\n",
      "Epoch 22/40\n",
      "8083/8083 [==============================] - 1s 82us/step - loss: 1.0094 - acc: 0.7512 - val_loss: 1.2296 - val_acc: 0.7230\n",
      "Epoch 23/40\n",
      "8083/8083 [==============================] - 1s 84us/step - loss: 0.9991 - acc: 0.7515 - val_loss: 1.2224 - val_acc: 0.7130\n",
      "Epoch 24/40\n",
      "8083/8083 [==============================] - 1s 82us/step - loss: 0.9918 - acc: 0.7519 - val_loss: 1.2181 - val_acc: 0.7186\n",
      "Epoch 25/40\n",
      "8083/8083 [==============================] - 1s 88us/step - loss: 0.9918 - acc: 0.7513 - val_loss: 1.2532 - val_acc: 0.7186\n",
      "Epoch 26/40\n",
      "8083/8083 [==============================] - 1s 82us/step - loss: 0.9830 - acc: 0.7533 - val_loss: 1.2130 - val_acc: 0.7208\n",
      "Epoch 27/40\n",
      "8083/8083 [==============================] - 1s 82us/step - loss: 0.9680 - acc: 0.7615 - val_loss: 1.2387 - val_acc: 0.7141\n",
      "Epoch 28/40\n",
      "8083/8083 [==============================] - 1s 82us/step - loss: 0.9605 - acc: 0.7609 - val_loss: 1.2339 - val_acc: 0.7130\n",
      "Epoch 29/40\n",
      "8083/8083 [==============================] - 1s 83us/step - loss: 0.9624 - acc: 0.7615 - val_loss: 1.2424 - val_acc: 0.7253\n",
      "Epoch 30/40\n",
      "8083/8083 [==============================] - 1s 87us/step - loss: 0.9592 - acc: 0.7654 - val_loss: 1.2290 - val_acc: 0.7141\n",
      "Epoch 31/40\n",
      "8083/8083 [==============================] - 1s 84us/step - loss: 0.9478 - acc: 0.7605 - val_loss: 1.2818 - val_acc: 0.7164\n",
      "Epoch 32/40\n",
      "8083/8083 [==============================] - 1s 83us/step - loss: 0.9478 - acc: 0.7618 - val_loss: 1.2490 - val_acc: 0.7141\n",
      "Epoch 33/40\n",
      "8083/8083 [==============================] - 1s 84us/step - loss: 0.9462 - acc: 0.7599 - val_loss: 1.2556 - val_acc: 0.7141\n",
      "Epoch 34/40\n",
      "8083/8083 [==============================] - 1s 82us/step - loss: 0.9332 - acc: 0.7659 - val_loss: 1.2568 - val_acc: 0.7097\n",
      "Epoch 35/40\n",
      "8083/8083 [==============================] - 1s 91us/step - loss: 0.9195 - acc: 0.7670 - val_loss: 1.2402 - val_acc: 0.7253\n",
      "Epoch 36/40\n",
      "8083/8083 [==============================] - 1s 87us/step - loss: 0.9324 - acc: 0.7627 - val_loss: 1.2759 - val_acc: 0.7152\n",
      "Epoch 37/40\n",
      "8083/8083 [==============================] - 1s 89us/step - loss: 0.9231 - acc: 0.7628 - val_loss: 1.2861 - val_acc: 0.7197\n",
      "Epoch 38/40\n",
      "8083/8083 [==============================] - 1s 83us/step - loss: 0.9144 - acc: 0.7662 - val_loss: 1.2632 - val_acc: 0.7297\n",
      "Epoch 39/40\n",
      "8083/8083 [==============================] - 1s 86us/step - loss: 0.9107 - acc: 0.7682 - val_loss: 1.2796 - val_acc: 0.7197\n",
      "Epoch 40/40\n",
      "8083/8083 [==============================] - 1s 93us/step - loss: 0.9128 - acc: 0.7672 - val_loss: 1.2571 - val_acc: 0.7175\n"
     ]
    }
   ],
   "source": [
    "history_model1 = model1.fit(x_train,\n",
    "                            y_train,\n",
    "                            batch_size=batch_size,\n",
    "                            epochs=epochs,\n",
    "                            verbose=1,\n",
    "                            validation_split=0.1)"
   ]
  },
  {
   "cell_type": "code",
   "execution_count": 11,
   "metadata": {},
   "outputs": [
    {
     "name": "stdout",
     "output_type": "stream",
     "text": [
      "2246/2246 [==============================] - 0s 33us/step\n"
     ]
    }
   ],
   "source": [
    "score_model1 = model1.evaluate(x_test,\n",
    "                               y_test,\n",
    "                               batch_size=batch_size,\n",
    "                               verbose=1)"
   ]
  },
  {
   "cell_type": "markdown",
   "metadata": {},
   "source": [
    "### 训练模型2"
   ]
  },
  {
   "cell_type": "code",
   "execution_count": 12,
   "metadata": {
    "collapsed": true
   },
   "outputs": [],
   "source": [
    "model2 = create_network(num_classes=num_classes, **network2)"
   ]
  },
  {
   "cell_type": "code",
   "execution_count": 13,
   "metadata": {},
   "outputs": [
    {
     "name": "stdout",
     "output_type": "stream",
     "text": [
      "Train on 8083 samples, validate on 899 samples\n",
      "Epoch 1/40\n",
      "8083/8083 [==============================] - 1s 155us/step - loss: 1.9184 - acc: 0.5550 - val_loss: 1.4424 - val_acc: 0.6696\n",
      "Epoch 2/40\n",
      "8083/8083 [==============================] - 1s 100us/step - loss: 1.4083 - acc: 0.6735 - val_loss: 1.2940 - val_acc: 0.6941\n",
      "Epoch 3/40\n",
      "8083/8083 [==============================] - 1s 93us/step - loss: 1.2550 - acc: 0.7049 - val_loss: 1.2566 - val_acc: 0.7019\n",
      "Epoch 4/40\n",
      "8083/8083 [==============================] - 1s 92us/step - loss: 1.1609 - acc: 0.7192 - val_loss: 1.2041 - val_acc: 0.7130\n",
      "Epoch 5/40\n",
      "8083/8083 [==============================] - 1s 91us/step - loss: 1.0696 - acc: 0.7432 - val_loss: 1.1548 - val_acc: 0.7197\n",
      "Epoch 6/40\n",
      "8083/8083 [==============================] - 1s 96us/step - loss: 1.0300 - acc: 0.7481 - val_loss: 1.1697 - val_acc: 0.7286\n",
      "Epoch 7/40\n",
      "8083/8083 [==============================] - 1s 88us/step - loss: 0.9833 - acc: 0.7600 - val_loss: 1.1541 - val_acc: 0.7341\n",
      "Epoch 8/40\n",
      "8083/8083 [==============================] - 1s 86us/step - loss: 0.9526 - acc: 0.7636 - val_loss: 1.1567 - val_acc: 0.7330\n",
      "Epoch 9/40\n",
      "8083/8083 [==============================] - 1s 87us/step - loss: 0.9136 - acc: 0.7724 - val_loss: 1.1265 - val_acc: 0.7408\n",
      "Epoch 10/40\n",
      "8083/8083 [==============================] - 1s 85us/step - loss: 0.9034 - acc: 0.7752 - val_loss: 1.1238 - val_acc: 0.7475\n",
      "Epoch 11/40\n",
      "8083/8083 [==============================] - 1s 93us/step - loss: 0.8704 - acc: 0.7834 - val_loss: 1.1473 - val_acc: 0.7430\n",
      "Epoch 12/40\n",
      "8083/8083 [==============================] - 1s 89us/step - loss: 0.8625 - acc: 0.7824 - val_loss: 1.1397 - val_acc: 0.7419\n",
      "Epoch 13/40\n",
      "8083/8083 [==============================] - 1s 95us/step - loss: 0.8329 - acc: 0.7939 - val_loss: 1.1325 - val_acc: 0.7386\n",
      "Epoch 14/40\n",
      "8083/8083 [==============================] - 1s 119us/step - loss: 0.8279 - acc: 0.7945 - val_loss: 1.1451 - val_acc: 0.7531\n",
      "Epoch 15/40\n",
      "8083/8083 [==============================] - 1s 120us/step - loss: 0.8060 - acc: 0.8009 - val_loss: 1.1271 - val_acc: 0.7542\n",
      "Epoch 16/40\n",
      "8083/8083 [==============================] - 1s 106us/step - loss: 0.7864 - acc: 0.8042 - val_loss: 1.1435 - val_acc: 0.7497\n",
      "Epoch 17/40\n",
      "8083/8083 [==============================] - 1s 94us/step - loss: 0.7880 - acc: 0.8058 - val_loss: 1.1567 - val_acc: 0.7497\n",
      "Epoch 18/40\n",
      "8083/8083 [==============================] - 1s 93us/step - loss: 0.7771 - acc: 0.8063 - val_loss: 1.1790 - val_acc: 0.7486\n",
      "Epoch 19/40\n",
      "8083/8083 [==============================] - 1s 121us/step - loss: 0.7779 - acc: 0.8025 - val_loss: 1.1585 - val_acc: 0.7542\n",
      "Epoch 20/40\n",
      "8083/8083 [==============================] - 1s 88us/step - loss: 0.7580 - acc: 0.8092 - val_loss: 1.1681 - val_acc: 0.7475\n",
      "Epoch 21/40\n",
      "8083/8083 [==============================] - 1s 102us/step - loss: 0.7463 - acc: 0.8167 - val_loss: 1.1737 - val_acc: 0.7519\n",
      "Epoch 22/40\n",
      "8083/8083 [==============================] - 1s 89us/step - loss: 0.7527 - acc: 0.8112 - val_loss: 1.1875 - val_acc: 0.7442\n",
      "Epoch 23/40\n",
      "8083/8083 [==============================] - 1s 98us/step - loss: 0.7335 - acc: 0.8173 - val_loss: 1.1787 - val_acc: 0.7553\n",
      "Epoch 24/40\n",
      "8083/8083 [==============================] - 1s 105us/step - loss: 0.7266 - acc: 0.8185 - val_loss: 1.1835 - val_acc: 0.7542\n",
      "Epoch 25/40\n",
      "8083/8083 [==============================] - 1s 94us/step - loss: 0.7099 - acc: 0.8188 - val_loss: 1.2004 - val_acc: 0.7486\n",
      "Epoch 26/40\n",
      "8083/8083 [==============================] - 1s 91us/step - loss: 0.6959 - acc: 0.8223 - val_loss: 1.2090 - val_acc: 0.7531\n",
      "Epoch 27/40\n",
      "8083/8083 [==============================] - 1s 103us/step - loss: 0.7089 - acc: 0.8247 - val_loss: 1.2190 - val_acc: 0.7564\n",
      "Epoch 28/40\n",
      "8083/8083 [==============================] - 1s 89us/step - loss: 0.6956 - acc: 0.8270 - val_loss: 1.2335 - val_acc: 0.7575\n",
      "Epoch 29/40\n",
      "8083/8083 [==============================] - 1s 93us/step - loss: 0.6903 - acc: 0.8275 - val_loss: 1.2545 - val_acc: 0.7486\n",
      "Epoch 30/40\n",
      "8083/8083 [==============================] - 1s 91us/step - loss: 0.6787 - acc: 0.8316 - val_loss: 1.2530 - val_acc: 0.7419\n",
      "Epoch 31/40\n",
      "8083/8083 [==============================] - 1s 96us/step - loss: 0.6733 - acc: 0.8338 - val_loss: 1.2567 - val_acc: 0.7531\n",
      "Epoch 32/40\n",
      "8083/8083 [==============================] - 1s 104us/step - loss: 0.6671 - acc: 0.8315 - val_loss: 1.2479 - val_acc: 0.7330\n",
      "Epoch 33/40\n",
      "8083/8083 [==============================] - 1s 88us/step - loss: 0.6644 - acc: 0.8366 - val_loss: 1.2747 - val_acc: 0.7341\n",
      "Epoch 34/40\n",
      "8083/8083 [==============================] - 1s 110us/step - loss: 0.6647 - acc: 0.8335 - val_loss: 1.2699 - val_acc: 0.7419\n",
      "Epoch 35/40\n",
      "8083/8083 [==============================] - 1s 120us/step - loss: 0.6505 - acc: 0.8388 - val_loss: 1.2760 - val_acc: 0.7386\n",
      "Epoch 36/40\n",
      "8083/8083 [==============================] - 1s 109us/step - loss: 0.6491 - acc: 0.8372 - val_loss: 1.2849 - val_acc: 0.7319\n",
      "Epoch 37/40\n",
      "8083/8083 [==============================] - 1s 145us/step - loss: 0.6387 - acc: 0.8350 - val_loss: 1.2780 - val_acc: 0.7353\n",
      "Epoch 38/40\n",
      "8083/8083 [==============================] - 1s 136us/step - loss: 0.6317 - acc: 0.8381 - val_loss: 1.3011 - val_acc: 0.7408\n",
      "Epoch 39/40\n",
      "8083/8083 [==============================] - 1s 123us/step - loss: 0.6396 - acc: 0.8368 - val_loss: 1.3104 - val_acc: 0.7330\n",
      "Epoch 40/40\n",
      "8083/8083 [==============================] - 1s 122us/step - loss: 0.6426 - acc: 0.8378 - val_loss: 1.3083 - val_acc: 0.7341\n"
     ]
    }
   ],
   "source": [
    "history_model2 = model2.fit(x_train,\n",
    "                            y_train,\n",
    "                            batch_size=batch_size,\n",
    "                            epochs=epochs,\n",
    "                            verbose=1,\n",
    "                            validation_split=0.1)"
   ]
  },
  {
   "cell_type": "code",
   "execution_count": 14,
   "metadata": {},
   "outputs": [
    {
     "name": "stdout",
     "output_type": "stream",
     "text": [
      "2246/2246 [==============================] - 0s 40us/step\n"
     ]
    }
   ],
   "source": [
    "score_model2 = model2.evaluate(x_test,\n",
    "                               y_test,\n",
    "                               batch_size=batch_size,\n",
    "                               verbose=1)"
   ]
  },
  {
   "cell_type": "markdown",
   "metadata": {},
   "source": [
    "### 模型效果对比"
   ]
  },
  {
   "cell_type": "code",
   "execution_count": 15,
   "metadata": {},
   "outputs": [
    {
     "name": "stdout",
     "output_type": "stream",
     "text": [
      "\n",
      "Network 1 results\n",
      "Hyperparameters: {'n_dense': 6, 'dense_units': 16, 'activation': 'selu', 'dropout': <class 'keras.layers.core.Dropout'>, 'dropout_rate': 0.2, 'kernel_initializer': 'lecun_normal', 'optimizer': 'adam'}\n",
      "Test score: 1.2225739153388984\n",
      "Test accuracy: 0.7252894033837934\n",
      "\n",
      "Network 2 results\n",
      "Hyperparameters: {'n_dense': 6, 'dense_units': 16, 'activation': 'selu', 'dropout': <class 'keras.layers.core.Dropout'>, 'dropout_rate': 0.1, 'kernel_initializer': 'lecun_normal', 'optimizer': 'adam'}\n",
      "Test score: 1.2290900802357538\n",
      "Test accuracy: 0.7493321460373998\n"
     ]
    }
   ],
   "source": [
    "print('\\nNetwork 1 results')\n",
    "print('Hyperparameters:', network1)\n",
    "print('Test score:', score_model1[0])\n",
    "print('Test accuracy:', score_model1[1])\n",
    "print()\n",
    "print('Network 2 results')\n",
    "print('Hyperparameters:', network2)\n",
    "print('Test score:', score_model2[0])\n",
    "print('Test accuracy:', score_model2[1])"
   ]
  },
  {
   "cell_type": "code",
   "execution_count": 16,
   "metadata": {},
   "outputs": [
    {
     "data": {
      "image/png": "[encoded data removed]",
      "text/plain": [
       "<matplotlib.figure.Figure at 0x1aaa7a6d0b8>"
      ]
     },
     "metadata": {},
     "output_type": "display_data"
    }
   ],
   "source": [
    "plt.plot(range(epochs),\n",
    "         history_model1.history['val_acc'],\n",
    "         'b-',\n",
    "         label='Network 1 Val Accuracy')\n",
    "plt.plot(range(epochs),\n",
    "         history_model2.history['val_acc'],\n",
    "         'r-',\n",
    "         label='Network 2 Val Accuracy')\n",
    "plt.plot(range(epochs),\n",
    "         history_model1.history['acc'],\n",
    "         'b--',\n",
    "         label='Network 1 Accuracy')\n",
    "plt.plot(range(epochs),\n",
    "         history_model2.history['acc'],\n",
    "         'r--',\n",
    "         label='Network 2 Accuracy')\n",
    "plt.xlabel('Epochs')\n",
    "plt.ylabel('Accuracy')\n",
    "plt.legend()\n",
    "plt.show()"
   ]
  },
  {
   "cell_type": "code",
   "execution_count": 17,
   "metadata": {},
   "outputs": [
    {
     "data": {
      "image/png": "[encoded data removed]",
      "text/plain": [
       "<matplotlib.figure.Figure at 0x1aaa7911048>"
      ]
     },
     "metadata": {},
     "output_type": "display_data"
    }
   ],
   "source": [
    "plt.plot(range(epochs),\n",
    "         history_model1.history['val_loss'],\n",
    "         'b-',\n",
    "         label='Network 1 Val Loss')\n",
    "plt.plot(range(epochs),\n",
    "         history_model2.history['val_loss'],\n",
    "         'r-',\n",
    "         label='Network 2 Val Loss')\n",
    "plt.plot(range(epochs),\n",
    "         history_model1.history['loss'],\n",
    "         'b--',\n",
    "         label='Network 1 Loss')\n",
    "plt.plot(range(epochs),\n",
    "         history_model2.history['loss'],\n",
    "         'r--',\n",
    "         label='Network 2 Loss')\n",
    "plt.xlabel('Epochs')\n",
    "plt.ylabel('Loss')\n",
    "plt.legend()\n",
    "plt.show()"
   ]
  }
 ],
 "metadata": {
  "kernelspec": {
   "display_name": "Python 3",
   "language": "python",
   "name": "python3"
  },
  "language_info": {
   "codemirror_mode": {
    "name": "ipython",
    "version": 3
   },
   "file_extension": ".py",
   "mimetype": "text/x-python",
   "name": "python",
   "nbconvert_exporter": "python",
   "pygments_lexer": "ipython3",
   "version": "3.6.6"
  }
 },
 "nbformat": 4,
 "nbformat_minor": 2
}

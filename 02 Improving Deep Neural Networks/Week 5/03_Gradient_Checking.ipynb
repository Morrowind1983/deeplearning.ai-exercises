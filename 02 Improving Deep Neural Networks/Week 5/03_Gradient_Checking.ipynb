{
 "cells": [
  {
   "cell_type": "code",
   "execution_count": 1,
   "metadata": {
    "collapsed": true
   },
   "outputs": [],
   "source": [
    "import numpy as np"
   ]
  },
  {
   "cell_type": "markdown",
   "metadata": {},
   "source": [
    "### 转换工具"
   ]
  },
  {
   "cell_type": "code",
   "execution_count": 2,
   "metadata": {
    "collapsed": true
   },
   "outputs": [],
   "source": [
    "# dictionary转换为vector\n",
    "def dictionary_to_vector(parameters):\n",
    "    L = len(parameters) // 2\n",
    "    \n",
    "    theta = np.array([]).reshape((0, 1))\n",
    "    shape_caches = []\n",
    "    for l in range(1, L + 1):\n",
    "        W = parameters[\"W\" + str(l)]\n",
    "        theta = np.concatenate((theta, np.reshape(W, (-1,1))), axis=0)\n",
    "        shape_caches.append(W.shape)\n",
    "        b = parameters[\"b\" + str(l)]\n",
    "        theta = np.concatenate((theta, np.reshape(b, (-1,1))), axis=0)\n",
    "        shape_caches.append(b.shape)\n",
    "        \n",
    "    return theta, shape_caches\n",
    "\n",
    "# vector转换为dictionary\n",
    "def vector_to_dictionary(theta, shape_caches):\n",
    "    L = len(shape_caches) // 2\n",
    "    \n",
    "    parameters = {}\n",
    "    i = 0\n",
    "    pos = 0\n",
    "    for l in range(1, L + 1):\n",
    "        length = shape_caches[i][0] * shape_caches[i][1]\n",
    "        parameters[\"W\" + str(l)] = theta[pos:pos + length].reshape(shape_caches[i])\n",
    "        i += 1\n",
    "        pos += length\n",
    "        length = shape_caches[i][0] * shape_caches[i][1]\n",
    "        parameters[\"b\" + str(l)] = theta[pos:pos + length].reshape(shape_caches[i])\n",
    "        i += 1\n",
    "        pos += length\n",
    "\n",
    "    return parameters\n",
    "\n",
    "# 梯度转换为vector\n",
    "def gradients_to_vector(gradients):\n",
    "    L = len(gradients) // 2\n",
    "    \n",
    "    theta = np.array([]).reshape((0, 1))\n",
    "    for l in range(1, L + 1):\n",
    "        theta = np.concatenate((theta, np.reshape(gradients[\"dW\" + str(l)], (-1,1))), axis=0)\n",
    "        theta = np.concatenate((theta, np.reshape(gradients[\"db\" + str(l)], (-1,1))), axis=0)\n",
    "\n",
    "    return theta"
   ]
  },
  {
   "cell_type": "markdown",
   "metadata": {},
   "source": [
    "### 正反向传播函数"
   ]
  },
  {
   "cell_type": "code",
   "execution_count": 3,
   "metadata": {
    "collapsed": true
   },
   "outputs": [],
   "source": [
    "# sigmoid激活函数\n",
    "def sigmoid(Z):\n",
    "    return 1 / (1 + np.exp(-Z))"
   ]
  },
  {
   "cell_type": "code",
   "execution_count": 4,
   "metadata": {
    "collapsed": true
   },
   "outputs": [],
   "source": [
    "# ReLU激活函数\n",
    "def relu(Z):\n",
    "    return np.maximum(0, Z)"
   ]
  },
  {
   "cell_type": "code",
   "execution_count": 5,
   "metadata": {
    "collapsed": true
   },
   "outputs": [],
   "source": [
    "# 计算正向传播 ReLU->ReLU->...->Sigmoid\n",
    "def forward_propagate(parameters, X):\n",
    "    L = len(parameters) // 2\n",
    "    \n",
    "    caches = {}\n",
    "    \n",
    "    A = X\n",
    "    caches['A0'] = A\n",
    "    for l in range(1, L):\n",
    "        Z = parameters['W' + str(l)] @ A + parameters['b' + str(l)]\n",
    "        A = relu(Z)\n",
    "        caches['A' + str(l)] = A\n",
    "    \n",
    "    Z = parameters['W' + str(L)] @ A + parameters['b' + str(L)]\n",
    "    A = sigmoid(Z)\n",
    "    caches['A' + str(L)] = A\n",
    "    \n",
    "    return A, caches"
   ]
  },
  {
   "cell_type": "code",
   "execution_count": 6,
   "metadata": {
    "collapsed": true
   },
   "outputs": [],
   "source": [
    "# 计算损失函数\n",
    "def compute_cost(AL, Y):\n",
    "    logprobs = Y * np.log(AL) + (1 - Y) * np.log(1 - AL)\n",
    "    cost = -np.nanmean(logprobs)\n",
    "    return cost"
   ]
  },
  {
   "cell_type": "code",
   "execution_count": 7,
   "metadata": {
    "collapsed": true
   },
   "outputs": [],
   "source": [
    "# 计算反向传播 Sigmoid->ReLU->...->ReLU\n",
    "def backward_propagate(parameters, Y, caches):\n",
    "    L = len(parameters) // 2\n",
    "    \n",
    "    grads = {}\n",
    "    \n",
    "    dZ = caches['A' + str(L)] - Y # cross-entropy cost对AL的偏导数 * sigmoid的导数\n",
    "    grads['dW' + str(L)] = dZ @ caches['A' + str(L - 1)].T / dZ.shape[1]\n",
    "    grads['db' + str(L)] = np.mean(dZ, axis=1, keepdims=True)\n",
    "    \n",
    "    for l in reversed(range(1, L)):\n",
    "        dZ =  parameters['W' + str(l + 1)].T @ dZ * (caches['A' + str(l)] > 0) # ReLU的导数\n",
    "        grads['dW' + str(l)] = dZ @ caches['A' + str(l - 1)].T / dZ.shape[1]\n",
    "        grads['db' + str(l)] = np.mean(dZ, axis=1, keepdims=True)\n",
    "    \n",
    "    return grads"
   ]
  },
  {
   "cell_type": "markdown",
   "metadata": {},
   "source": [
    "### 梯度检验"
   ]
  },
  {
   "cell_type": "code",
   "execution_count": 8,
   "metadata": {
    "collapsed": true
   },
   "outputs": [],
   "source": [
    "def gradient_check(parameters, gradients, X, Y, epsilon = 1e-7):\n",
    "    # 变量设置\n",
    "    parameters_values, shape_caches = dictionary_to_vector(parameters)\n",
    "    grad = gradients_to_vector(gradients)\n",
    "    num_parameters = parameters_values.shape[0]\n",
    "    gradapprox = np.zeros((num_parameters, 1))\n",
    "    \n",
    "    # 计算梯度近似值\n",
    "    for i in range(num_parameters):\n",
    "        thetaplus = np.copy(parameters_values)\n",
    "        thetaplus[i][0] += epsilon\n",
    "        AL, _ = forward_propagate(vector_to_dictionary(thetaplus, shape_caches), X)\n",
    "        J_plus = compute_cost(AL, Y)\n",
    "\n",
    "        thetaminus = np.copy(parameters_values)\n",
    "        thetaminus[i][0] -= epsilon\n",
    "        AL, _ = forward_propagate(vector_to_dictionary(thetaminus, shape_caches), X)\n",
    "        J_minus = compute_cost(AL, Y)\n",
    "        \n",
    "        gradapprox[i] = (J_plus - J_minus) / epsilon / 2.\n",
    "    \n",
    "    difference = np.linalg.norm(grad - gradapprox) / (np.linalg.norm(grad) + np.linalg.norm(gradapprox))\n",
    "    \n",
    "    if difference > epsilon:\n",
    "        print (\"\\033[93m\" + \"There is a mistake in the backward propagation! difference = \" + str(difference) + \"\\033[0m\")\n",
    "    else:\n",
    "        print (\"\\033[92m\" + \"Your backward propagation works perfectly fine! difference = \" + str(difference) + \"\\033[0m\")\n",
    "    \n",
    "    return difference"
   ]
  },
  {
   "cell_type": "code",
   "execution_count": 9,
   "metadata": {
    "collapsed": true
   },
   "outputs": [],
   "source": [
    "def gradient_check_n_test_case(): \n",
    "    np.random.seed(2)\n",
    "    x = np.random.randn(4,3)\n",
    "    y = np.array([1, 1, 0])\n",
    "    W1 = np.random.randn(5,4)\n",
    "    b1 = np.random.randn(5,1)\n",
    "    W2 = np.random.randn(3,5)\n",
    "    b2 = np.random.randn(3,1)\n",
    "    W3 = np.random.randn(1,3)\n",
    "    b3 = np.random.randn(1,1)\n",
    "    parameters = {\"W1\": W1,\n",
    "                  \"b1\": b1,\n",
    "                  \"W2\": W2,\n",
    "                  \"b2\": b2,\n",
    "                  \"W3\": W3,\n",
    "                  \"b3\": b3}\n",
    "    return x, y, parameters"
   ]
  },
  {
   "cell_type": "code",
   "execution_count": 10,
   "metadata": {},
   "outputs": [
    {
     "name": "stdout",
     "output_type": "stream",
     "text": [
      "\u001b[92mYour backward propagation works perfectly fine! difference = 1.34885360864e-08\u001b[0m\n"
     ]
    }
   ],
   "source": [
    "X, Y, parameters = gradient_check_n_test_case()\n",
    "AL, caches = forward_propagate(parameters, X)\n",
    "grads = backward_propagate(parameters, Y, caches)\n",
    "difference = gradient_check(parameters, grads, X, Y)"
   ]
  },
  {
   "cell_type": "markdown",
   "metadata": {},
   "source": [
    "### 错误的反向传播函数"
   ]
  },
  {
   "cell_type": "code",
   "execution_count": 11,
   "metadata": {
    "collapsed": true
   },
   "outputs": [],
   "source": [
    "# 计算错误的反向传播\n",
    "def backward_propagate(parameters, Y, caches):\n",
    "    L = len(parameters) // 2\n",
    "    \n",
    "    grads = {}\n",
    "    \n",
    "    dZ = caches['A' + str(L)] - Y # cross-entropy cost对AL的偏导数 * sigmoid的导数\n",
    "    grads['dW' + str(L)] = dZ @ caches['A' + str(L - 1)].T / dZ.shape[1]\n",
    "    grads['db' + str(L)] = np.mean(dZ, axis=1, keepdims=True)\n",
    "    \n",
    "    for l in reversed(range(1, L)):\n",
    "        dZ =  parameters['W' + str(l + 1)].T @ dZ * (caches['A' + str(l)] > 0) # ReLU的导数\n",
    "        grads['dW' + str(l)] = dZ @ caches['A' + str(l - 1)].T\n",
    "        grads['db' + str(l)] = np.mean(dZ, axis=1, keepdims=True)\n",
    "    \n",
    "    return grads"
   ]
  },
  {
   "cell_type": "code",
   "execution_count": 12,
   "metadata": {},
   "outputs": [
    {
     "name": "stdout",
     "output_type": "stream",
     "text": [
      "\u001b[93mThere is a mistake in the backward propagation! difference = 0.478408736962\u001b[0m\n"
     ]
    }
   ],
   "source": [
    "X, Y, parameters = gradient_check_n_test_case()\n",
    "AL, caches = forward_propagate(parameters, X)\n",
    "grads = backward_propagate(parameters, Y, caches)\n",
    "difference = gradient_check(parameters, grads, X, Y)"
   ]
  }
 ],
 "metadata": {
  "kernelspec": {
   "display_name": "Python 3",
   "language": "python",
   "name": "python3"
  },
  "language_info": {
   "codemirror_mode": {
    "name": "ipython",
    "version": 3
   },
   "file_extension": ".py",
   "mimetype": "text/x-python",
   "name": "python",
   "nbconvert_exporter": "python",
   "pygments_lexer": "ipython3",
   "version": "3.6.3"
  }
 },
 "nbformat": 4,
 "nbformat_minor": 2
}

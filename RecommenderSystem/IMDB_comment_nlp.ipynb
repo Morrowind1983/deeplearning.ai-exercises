{
 "cells": [
  {
   "cell_type": "code",
   "execution_count": 1,
   "metadata": {},
   "outputs": [
    {
     "name": "stderr",
     "output_type": "stream",
     "text": [
      "Using TensorFlow backend.\n"
     ]
    }
   ],
   "source": [
    "import keras.backend as K\n",
    "\n",
    "from keras import Sequential, regularizers\n",
    "from keras.models import load_model\n",
    "from keras.layers import Dense\n",
    "from sklearn.feature_extraction.text import TfidfVectorizer\n",
    "from sklearn.model_selection import train_test_split\n",
    "import numpy as np\n",
    "import os\n",
    "import pickle\n",
    "import scipy.sparse as sp\n",
    "\n",
    "import matplotlib.pyplot as plt\n",
    "%matplotlib inline"
   ]
  },
  {
   "cell_type": "code",
   "execution_count": 2,
   "metadata": {},
   "outputs": [],
   "source": [
    "# draw loss curve\n",
    "def draw_curve(data1, label1, data2, label2, base1, base2):\n",
    "    x = range(len(data1))\n",
    "    plt.figure(figsize=(7.0, 4.0))\n",
    "    plt.plot(x, data1, color='blue', label=label1)\n",
    "    if data2:\n",
    "        plt.plot(x, data2, color='red', label=label2)\n",
    "    if base1 and base2:\n",
    "        left, right = plt.xlim()\n",
    "        plt.hlines(y=base1, xmin=left, xmax=right, color='gray', linestyles='dashed')\n",
    "        plt.hlines(y=base2, xmin=left, xmax=right, color='darkgray', linestyles='dashed')\n",
    "    plt.legend()\n",
    "    plt.xticks(x)\n",
    "    plt.ylabel('score')\n",
    "    plt.xlabel('epoches')\n",
    "    plt.show()"
   ]
  },
  {
   "cell_type": "markdown",
   "metadata": {},
   "source": [
    "# Create Dataset"
   ]
  },
  {
   "cell_type": "code",
   "execution_count": 3,
   "metadata": {},
   "outputs": [],
   "source": [
    "# iterate all files\n",
    "def read_file(pos_path, neg_path):\n",
    "    for path in [pos_path, neg_path]:\n",
    "        for dirpath, dirnames, filenames in os.walk(path):\n",
    "            for filename in filenames:\n",
    "#                 print(os.path.join(dirpath,filename))\n",
    "                yield open(os.path.join(dirpath,filename), 'r', errors='ignore', encoding='utf').read()"
   ]
  },
  {
   "cell_type": "code",
   "execution_count": 4,
   "metadata": {},
   "outputs": [],
   "source": [
    "# create training data from files\n",
    "def get_train_samples(pos_path, neg_path):\n",
    "    # create input_X\n",
    "    vectorizer = TfidfVectorizer(min_df=0, lowercase=False)\n",
    "    f = read_file(pos_path, neg_path)\n",
    "    input_X = vectorizer.fit_transform(f)\n",
    "#     print(vectorizer.vocabulary_)\n",
    "    # save the transformer\n",
    "    with open('tf_idf_transformer.pkl', 'wb') as fw:\n",
    "        pickle.dump(vectorizer, fw)\n",
    "        print('TF-IDF Transformer saved. vocabulary size =', len(vectorizer.vocabulary_))\n",
    "    # create output_y\n",
    "    output_y = [1] * len([filenames for _,_,filenames in os.walk(pos_path)][0]) + [0] * len([filenames for _,_,filenames in os.walk(neg_path)][0])\n",
    "    assert input_X.shape[0] == len(output_y)\n",
    "    # split the data into train and val\n",
    "    return train_test_split(input_X, output_y, test_size=0.1, random_state=23)"
   ]
  },
  {
   "cell_type": "code",
   "execution_count": 5,
   "metadata": {},
   "outputs": [],
   "source": [
    "# create test data from files\n",
    "def get_test_samples(pos_path, neg_path):\n",
    "    # create X_test\n",
    "    vectorizer = pickle.load(open('tf_idf_transformer.pkl', 'rb'))\n",
    "    f = read_file(pos_path, neg_path)\n",
    "    X_test = vectorizer.transform(f)\n",
    "    # create y_test\n",
    "    y_test = [1] * len([filenames for _,_,filenames in os.walk(pos_path)][0]) + [0] * len([filenames for _,_,filenames in os.walk(neg_path)][0])\n",
    "    assert X_test.shape[0] == len(y_test)\n",
    "    return X_test, y_test"
   ]
  },
  {
   "cell_type": "code",
   "execution_count": 6,
   "metadata": {},
   "outputs": [
    {
     "name": "stdout",
     "output_type": "stream",
     "text": [
      "TF-IDF Transformer saved. vocabulary size = 94112\n"
     ]
    }
   ],
   "source": [
    "X_train, X_val, y_train, y_val = get_train_samples('./aclImdb/train/pos', './aclImdb/train/neg')"
   ]
  },
  {
   "cell_type": "code",
   "execution_count": 7,
   "metadata": {},
   "outputs": [
    {
     "data": {
      "text/plain": [
       "<22500x94112 sparse matrix of type '<class 'numpy.float64'>'\n",
       "\twith 3217190 stored elements in Compressed Sparse Row format>"
      ]
     },
     "execution_count": 7,
     "metadata": {},
     "output_type": "execute_result"
    }
   ],
   "source": [
    "X_train"
   ]
  },
  {
   "cell_type": "code",
   "execution_count": 8,
   "metadata": {},
   "outputs": [
    {
     "data": {
      "text/plain": [
       "22500"
      ]
     },
     "execution_count": 8,
     "metadata": {},
     "output_type": "execute_result"
    }
   ],
   "source": [
    "len(y_train)"
   ]
  },
  {
   "cell_type": "code",
   "execution_count": 9,
   "metadata": {},
   "outputs": [
    {
     "data": {
      "text/plain": [
       "<2500x94112 sparse matrix of type '<class 'numpy.float64'>'\n",
       "\twith 354884 stored elements in Compressed Sparse Row format>"
      ]
     },
     "execution_count": 9,
     "metadata": {},
     "output_type": "execute_result"
    }
   ],
   "source": [
    "X_val"
   ]
  },
  {
   "cell_type": "code",
   "execution_count": 10,
   "metadata": {},
   "outputs": [
    {
     "data": {
      "text/plain": [
       "2500"
      ]
     },
     "execution_count": 10,
     "metadata": {},
     "output_type": "execute_result"
    }
   ],
   "source": [
    "len(y_val)"
   ]
  },
  {
   "cell_type": "markdown",
   "metadata": {},
   "source": [
    "# Training"
   ]
  },
  {
   "cell_type": "code",
   "execution_count": 11,
   "metadata": {},
   "outputs": [],
   "source": [
    "def get_mlp_model(input_dim, neural_dim):\n",
    "    model = Sequential()\n",
    "    model.add(Dense(neural_dim, \n",
    "                    input_dim=input_dim,\n",
    "                    kernel_regularizer=regularizers.l2(0.001), # set l2 regularizers to prevent over-fitting\n",
    "                    activation='relu'))\n",
    "    model.add(Dense(1, activation='sigmoid'))\n",
    "    return model"
   ]
  },
  {
   "cell_type": "code",
   "execution_count": 12,
   "metadata": {},
   "outputs": [],
   "source": [
    "# iterate training samples\n",
    "def sample_generator(input_x, output_y, batch_size):\n",
    "    num_batches = int(np.ceil(input_x.shape[0] / batch_size))\n",
    "    sample_index = np.arange(input_x.shape[0])\n",
    "    \n",
    "    is_sparse = sp.issparse(input_x)\n",
    "    \n",
    "    np.random.shuffle(sample_index)\n",
    "    k = 0\n",
    "    while True:\n",
    "        batch_index = sample_index[batch_size * k:batch_size * (k + 1)]\n",
    "        if is_sparse:\n",
    "            x_batch = input_x[batch_index, :].toarray()\n",
    "        else:\n",
    "            x_batch = input_x[batch_index, :]\n",
    "        y_batch = output_y[batch_index]\n",
    "        k += 1\n",
    "        yield x_batch, y_batch\n",
    "        if k == num_batches:\n",
    "            np.random.shuffle(sample_index)\n",
    "            k = 0"
   ]
  },
  {
   "cell_type": "code",
   "execution_count": 13,
   "metadata": {},
   "outputs": [],
   "source": [
    "def precision(y_true, y_pred):\n",
    "    \"\"\"Precision metric.\n",
    "    Only computes a batch-wise average of precision.\n",
    "    Computes the precision, a metric for multi-label classification of\n",
    "    how many selected items are relevant.\n",
    "    \"\"\"\n",
    "    true_positives = K.sum(K.round(K.clip(y_true * y_pred, 0, 1)))\n",
    "    predicted_positives = K.sum(K.round(K.clip(y_pred, 0, 1)))\n",
    "    precision = true_positives / (predicted_positives + K.epsilon())\n",
    "    return precision\n",
    "\n",
    "\n",
    "def recall(y_true, y_pred):\n",
    "    \"\"\"Recall metric.\n",
    "    Only computes a batch-wise average of recall.\n",
    "    Computes the recall, a metric for multi-label classification of\n",
    "    how many relevant items are selected.\n",
    "    \"\"\"\n",
    "    true_positives = K.sum(K.round(K.clip(y_true * y_pred, 0, 1)))\n",
    "    possible_positives = K.sum(K.round(K.clip(y_true, 0, 1)))\n",
    "    recall = true_positives / (possible_positives + K.epsilon())\n",
    "    return recall\n",
    "\n",
    "def fbeta_score(y_true, y_pred, beta=1):\n",
    "    \"\"\"Computes the F score.\n",
    "    The F score is the weighted harmonic mean of precision and recall.\n",
    "    Here it is only computed as a batch-wise average, not globally.\n",
    "    This is useful for multi-label classification, where input samples can be\n",
    "    classified as sets of labels. By only using accuracy (precision) a model\n",
    "    would achieve a perfect score by simply assigning every class to every\n",
    "    input. In order to avoid this, a metric should penalize incorrect class\n",
    "    assignments as well (recall). The F-beta score (ranged from 0.0 to 1.0)\n",
    "    computes this, as a weighted mean of the proportion of correct class\n",
    "    assignments vs. the proportion of incorrect class assignments.\n",
    "    With beta = 1, this is equivalent to a F-measure. With beta < 1, assigning\n",
    "    correct classes becomes more important, and with beta > 1 the metric is\n",
    "    instead weighted towards penalizing incorrect class assignments.\n",
    "    \"\"\"\n",
    "    if beta < 0:\n",
    "        raise ValueError('The lowest choosable beta is zero (only precision).')\n",
    "\n",
    "    # If there are no true positives, fix the F score at 0 like sklearn.\n",
    "    if K.sum(K.round(K.clip(y_true, 0, 1))) == 0:\n",
    "        return 0\n",
    "\n",
    "    p = precision(y_true, y_pred)\n",
    "    r = recall(y_true, y_pred)\n",
    "    bb = beta ** 2\n",
    "    fbeta_score = (1 + bb) * (p * r) / (bb * p + r + K.epsilon())\n",
    "    return fbeta_score"
   ]
  },
  {
   "cell_type": "code",
   "execution_count": 14,
   "metadata": {},
   "outputs": [],
   "source": [
    "def train_model(X_train, X_val, y_train, y_val, neural_dim=16, epochs=10, batch_size=32):\n",
    "    model = get_mlp_model(X_train.shape[1], neural_dim)\n",
    "    \n",
    "    model.compile(loss='binary_crossentropy', optimizer='adam', metrics=['accuracy', fbeta_score])\n",
    "    \n",
    "    fit_steps = int(np.ceil(X_train.shape[0] / batch_size))\n",
    "    hist = model.fit_generator(generator=sample_generator(X_train, np.array(y_train), batch_size),\n",
    "                               steps_per_epoch=fit_steps,\n",
    "                               epochs=epochs,\n",
    "                               validation_data=(X_val, y_val),\n",
    "                               verbose=True)\n",
    "    \n",
    "    return model, hist"
   ]
  },
  {
   "cell_type": "code",
   "execution_count": 15,
   "metadata": {},
   "outputs": [
    {
     "name": "stdout",
     "output_type": "stream",
     "text": [
      "WARNING:tensorflow:From /root/anaconda2/envs/py36-gpu/lib/python3.6/site-packages/tensorflow/python/framework/op_def_library.py:263: colocate_with (from tensorflow.python.framework.ops) is deprecated and will be removed in a future version.\n",
      "Instructions for updating:\n",
      "Colocations handled automatically by placer.\n",
      "WARNING:tensorflow:From /root/anaconda2/envs/py36-gpu/lib/python3.6/site-packages/tensorflow/python/ops/math_ops.py:3066: to_int32 (from tensorflow.python.ops.math_ops) is deprecated and will be removed in a future version.\n",
      "Instructions for updating:\n",
      "Use tf.cast instead.\n",
      "Epoch 1/10\n",
      "704/704 [==============================] - 9s 13ms/step - loss: 0.5969 - acc: 0.8226 - fbeta_score: 0.7871 - val_loss: 0.5234 - val_acc: 0.8660 - val_fbeta_score: 0.7740\n",
      "Epoch 2/10\n",
      "704/704 [==============================] - 8s 11ms/step - loss: 0.4956 - acc: 0.8768 - fbeta_score: 0.8741 - val_loss: 0.4718 - val_acc: 0.8796 - val_fbeta_score: 0.7946\n",
      "Epoch 3/10\n",
      "704/704 [==============================] - 8s 11ms/step - loss: 0.4571 - acc: 0.8884 - fbeta_score: 0.8866 - val_loss: 0.4576 - val_acc: 0.8864 - val_fbeta_score: 0.7849\n",
      "Epoch 4/10\n",
      "704/704 [==============================] - 8s 12ms/step - loss: 0.4338 - acc: 0.8957 - fbeta_score: 0.8936 - val_loss: 0.4397 - val_acc: 0.8828 - val_fbeta_score: 0.8088\n",
      "Epoch 5/10\n",
      "704/704 [==============================] - 8s 11ms/step - loss: 0.4157 - acc: 0.9045 - fbeta_score: 0.9018 - val_loss: 0.4243 - val_acc: 0.8944 - val_fbeta_score: 0.8174\n",
      "Epoch 6/10\n",
      "704/704 [==============================] - 7s 10ms/step - loss: 0.4013 - acc: 0.9071 - fbeta_score: 0.9043 - val_loss: 0.4174 - val_acc: 0.8956 - val_fbeta_score: 0.8036\n",
      "Epoch 7/10\n",
      "704/704 [==============================] - 8s 11ms/step - loss: 0.3901 - acc: 0.9111 - fbeta_score: 0.9084 - val_loss: 0.4183 - val_acc: 0.8964 - val_fbeta_score: 0.8066\n",
      "Epoch 8/10\n",
      "704/704 [==============================] - 8s 11ms/step - loss: 0.3801 - acc: 0.9165 - fbeta_score: 0.9142 - val_loss: 0.4153 - val_acc: 0.8988 - val_fbeta_score: 0.8092\n",
      "Epoch 9/10\n",
      "704/704 [==============================] - 8s 11ms/step - loss: 0.3715 - acc: 0.9182 - fbeta_score: 0.9157 - val_loss: 0.4101 - val_acc: 0.8964 - val_fbeta_score: 0.8131\n",
      "Epoch 10/10\n",
      "704/704 [==============================] - 8s 11ms/step - loss: 0.3638 - acc: 0.9220 - fbeta_score: 0.9201 - val_loss: 0.4048 - val_acc: 0.8968 - val_fbeta_score: 0.8192\n"
     ]
    }
   ],
   "source": [
    "model, hist = train_model(X_train, X_val, y_train, y_val, neural_dim=16)"
   ]
  },
  {
   "cell_type": "code",
   "execution_count": 16,
   "metadata": {},
   "outputs": [
    {
     "data": {
      "image/png": "[encoded data removed]",
      "text/plain": [
       "<Figure size 504x288 with 1 Axes>"
      ]
     },
     "metadata": {
      "needs_background": "light"
     },
     "output_type": "display_data"
    },
    {
     "data": {
      "image/png": "[encoded data removed]",
      "text/plain": [
       "<Figure size 504x288 with 1 Axes>"
      ]
     },
     "metadata": {
      "needs_background": "light"
     },
     "output_type": "display_data"
    },
    {
     "data": {
      "image/png": "[encoded data removed]",
      "text/plain": [
       "<Figure size 504x288 with 1 Axes>"
      ]
     },
     "metadata": {
      "needs_background": "light"
     },
     "output_type": "display_data"
    }
   ],
   "source": [
    "draw_curve(hist.history['loss'], 'loss', hist.history['val_loss'], 'val_loss', None, None)\n",
    "draw_curve(hist.history['acc'], 'acc', hist.history['val_acc'], 'val_acc', None, None)\n",
    "draw_curve(hist.history['fbeta_score'], 'fbeta_score', hist.history['val_fbeta_score'], 'val_fbeta_score', None, None)"
   ]
  },
  {
   "cell_type": "code",
   "execution_count": 17,
   "metadata": {},
   "outputs": [
    {
     "name": "stdout",
     "output_type": "stream",
     "text": [
      "_________________________________________________________________\n",
      "Layer (type)                 Output Shape              Param #   \n",
      "=================================================================\n",
      "dense_1 (Dense)              (None, 16)                1505808   \n",
      "_________________________________________________________________\n",
      "dense_2 (Dense)              (None, 1)                 17        \n",
      "=================================================================\n",
      "Total params: 1,505,825\n",
      "Trainable params: 1,505,825\n",
      "Non-trainable params: 0\n",
      "_________________________________________________________________\n"
     ]
    }
   ],
   "source": [
    "model.summary()\n",
    "model.save('collateral_model.h5')"
   ]
  },
  {
   "cell_type": "markdown",
   "metadata": {},
   "source": [
    "# Prediction"
   ]
  },
  {
   "cell_type": "code",
   "execution_count": 18,
   "metadata": {},
   "outputs": [],
   "source": [
    "X_test, y_test = get_test_samples('./aclImdb/test/pos', './aclImdb/test/neg')"
   ]
  },
  {
   "cell_type": "code",
   "execution_count": 19,
   "metadata": {},
   "outputs": [
    {
     "data": {
      "text/plain": [
       "<25000x94112 sparse matrix of type '<class 'numpy.float64'>'\n",
       "\twith 3450832 stored elements in Compressed Sparse Row format>"
      ]
     },
     "execution_count": 19,
     "metadata": {},
     "output_type": "execute_result"
    }
   ],
   "source": [
    "X_test"
   ]
  },
  {
   "cell_type": "code",
   "execution_count": 20,
   "metadata": {},
   "outputs": [
    {
     "data": {
      "text/plain": [
       "25000"
      ]
     },
     "execution_count": 20,
     "metadata": {},
     "output_type": "execute_result"
    }
   ],
   "source": [
    "len(y_test)"
   ]
  },
  {
   "cell_type": "code",
   "execution_count": 21,
   "metadata": {},
   "outputs": [],
   "source": [
    "model = load_model('collateral_model.h5', compile=False)\n",
    "y_predict = model.predict_classes(X_test)"
   ]
  },
  {
   "cell_type": "code",
   "execution_count": 22,
   "metadata": {},
   "outputs": [],
   "source": [
    "y_predict = y_predict.ravel()\n",
    "y_test = np.array(y_test)"
   ]
  },
  {
   "cell_type": "code",
   "execution_count": 23,
   "metadata": {},
   "outputs": [
    {
     "name": "stdout",
     "output_type": "stream",
     "text": [
      "test_accuracy = 0.87996\n",
      "test_precision = 0.8772138829322532\n",
      "test_recall = 0.8836\n",
      "test_f1 = 0.8803953608863736\n"
     ]
    }
   ],
   "source": [
    "test_accuracy = sum(y_predict == y_test) / len(y_test)\n",
    "hit = sum(y_predict & y_test)\n",
    "test_precision = hit / sum(y_predict)\n",
    "test_recall = hit / sum(y_test)\n",
    "test_f1 = 2 * test_precision * test_recall / (test_precision + test_recall)\n",
    "print('test_accuracy =', test_accuracy)\n",
    "print('test_precision =', test_precision)\n",
    "print('test_recall =', test_recall)\n",
    "print('test_f1 =', test_f1)"
   ]
  }
 ],
 "metadata": {
  "kernelspec": {
   "display_name": "Python 3",
   "language": "python",
   "name": "python3"
  },
  "language_info": {
   "codemirror_mode": {
    "name": "ipython",
    "version": 3
   },
   "file_extension": ".py",
   "mimetype": "text/x-python",
   "name": "python",
   "nbconvert_exporter": "python",
   "pygments_lexer": "ipython3",
   "version": "3.6.7"
  }
 },
 "nbformat": 4,
 "nbformat_minor": 2
}

{
 "cells": [
  {
   "cell_type": "code",
   "execution_count": 1,
   "metadata": {
    "collapsed": true
   },
   "outputs": [],
   "source": [
    "import numpy as np\n",
    "import pandas as pd\n",
    "import matplotlib.pyplot as plt\n",
    "import pickle\n",
    "%matplotlib inline\n",
    "from sklearn import model_selection"
   ]
  },
  {
   "cell_type": "markdown",
   "metadata": {},
   "source": [
    "## RBM"
   ]
  },
  {
   "cell_type": "code",
   "execution_count": 2,
   "metadata": {
    "collapsed": true
   },
   "outputs": [],
   "source": [
    "from __future__ import print_function\n",
    "import numpy as np\n",
    "\n",
    "class RBM:\n",
    "  \n",
    "  def __init__(self, num_visible, num_hidden, weights):\n",
    "    self.num_hidden = num_hidden\n",
    "    self.num_visible = num_visible\n",
    "    self.debug_print = True\n",
    "\n",
    "    # Initialize a weight matrix, of dimensions (num_visible x num_hidden), using\n",
    "    # a uniform distribution between -sqrt(6. / (num_hidden + num_visible))\n",
    "    # and sqrt(6. / (num_hidden + num_visible)). One could vary the \n",
    "    # standard deviation by multiplying the interval with appropriate value.\n",
    "    # Here we initialize the weights with mean 0 and standard deviation 0.1. \n",
    "    # Reference: Understanding the difficulty of training deep feedforward \n",
    "    # neural networks by Xavier Glorot and Yoshua Bengio\n",
    "    np_rng = np.random.RandomState(1234)\n",
    "    \n",
    "    if weights is None:\n",
    "        self.weights = np.asarray(np_rng.uniform(\n",
    "                low=-0.1 * np.sqrt(6. / (num_hidden + num_visible)),\n",
    "                            high=0.1 * np.sqrt(6. / (num_hidden + num_visible)),\n",
    "                            size=(num_visible, num_hidden)))\n",
    "\n",
    "\n",
    "        # Insert weights for the bias units into the first row and first column.\n",
    "        self.weights = np.insert(self.weights, 0, 0, axis = 0)\n",
    "        self.weights = np.insert(self.weights, 0, 0, axis = 1)\n",
    "    else:\n",
    "        self.weights = weights\n",
    "\n",
    "  def train(self, data, max_epochs = 1000, learning_rate = 0.1):\n",
    "    \"\"\"\n",
    "    Train the machine.\n",
    "\n",
    "    Parameters\n",
    "    ----------\n",
    "    data: A matrix where each row is a training example consisting of the states of visible units.    \n",
    "    \"\"\"\n",
    "\n",
    "    num_examples = data.shape[0]\n",
    "\n",
    "    # Insert bias units of 1 into the first column.\n",
    "    data = np.insert(data, 0, 1, axis = 1)\n",
    "\n",
    "    for epoch in range(max_epochs):      \n",
    "      # Clamp to the data and sample from the hidden units. \n",
    "      # (This is the \"positive CD phase\", aka the reality phase.)\n",
    "      pos_hidden_activations = np.dot(data, self.weights)      \n",
    "      pos_hidden_probs = self._logistic(pos_hidden_activations)\n",
    "      pos_hidden_probs[:,0] = 1 # Fix the bias unit.\n",
    "      pos_hidden_states = pos_hidden_probs > np.random.rand(num_examples, self.num_hidden + 1)\n",
    "      # Note that we're using the activation *probabilities* of the hidden states, not the hidden states       \n",
    "      # themselves, when computing associations. We could also use the states; see section 3 of Hinton's \n",
    "      # \"A Practical Guide to Training Restricted Boltzmann Machines\" for more.\n",
    "      pos_associations = np.dot(data.T, pos_hidden_probs)\n",
    "\n",
    "      # Reconstruct the visible units and sample again from the hidden units.\n",
    "      # (This is the \"negative CD phase\", aka the daydreaming phase.)\n",
    "      neg_visible_activations = np.dot(pos_hidden_states, self.weights.T)\n",
    "      neg_visible_probs = self._logistic(neg_visible_activations)\n",
    "      neg_visible_probs[:,0] = 1 # Fix the bias unit.\n",
    "      neg_hidden_activations = np.dot(neg_visible_probs, self.weights)\n",
    "      neg_hidden_probs = self._logistic(neg_hidden_activations)\n",
    "      # Note, again, that we're using the activation *probabilities* when computing associations, not the states \n",
    "      # themselves.\n",
    "      neg_associations = np.dot(neg_visible_probs.T, neg_hidden_probs)\n",
    "\n",
    "      # Update weights.\n",
    "      self.weights += learning_rate * ((pos_associations - neg_associations) / num_examples)\n",
    "\n",
    "      error = np.sum((data - neg_visible_probs) ** 2)\n",
    "      if self.debug_print and epoch % 100 == 0:\n",
    "        print(\"Epoch %s: error is %s\" % (epoch, error))\n",
    "\n",
    "  def run_visible(self, data, keep_prob = False):\n",
    "    \"\"\"\n",
    "    Assuming the RBM has been trained (so that weights for the network have been learned),\n",
    "    run the network on a set of visible units, to get a sample of the hidden units.\n",
    "    \n",
    "    Parameters\n",
    "    ----------\n",
    "    data: A matrix where each row consists of the states of the visible units.\n",
    "    \n",
    "    Returns\n",
    "    -------\n",
    "    hidden_states: A matrix where each row consists of the hidden units activated from the visible\n",
    "    units in the data matrix passed in.\n",
    "    \"\"\"\n",
    "    \n",
    "    num_examples = data.shape[0]\n",
    "    \n",
    "    # Create a matrix, where each row is to be the hidden units (plus a bias unit)\n",
    "    # sampled from a training example.\n",
    "    hidden_states = np.ones((num_examples, self.num_hidden + 1))\n",
    "    \n",
    "    # Insert bias units of 1 into the first column of data.\n",
    "    data = np.insert(data, 0, 1, axis = 1)\n",
    "\n",
    "    # Calculate the activations of the hidden units.\n",
    "    hidden_activations = np.dot(data, self.weights)\n",
    "    # Calculate the probabilities of turning the hidden units on.\n",
    "    hidden_probs = self._logistic(hidden_activations)\n",
    "    if keep_prob:\n",
    "        hidden_states[:,:] = hidden_probs\n",
    "    else:\n",
    "        # Turn the hidden units on with their specified probabilities.\n",
    "        hidden_states[:,:] = hidden_probs > np.random.rand(num_examples, self.num_hidden + 1)\n",
    "        # Always fix the bias unit to 1.\n",
    "        # hidden_states[:,0] = 1\n",
    "  \n",
    "    # Ignore the bias units.\n",
    "    hidden_states = hidden_states[:,1:]\n",
    "    return hidden_states\n",
    "    \n",
    "  # TODO: Remove the code duplication between this method and `run_visible`?\n",
    "  def run_hidden(self, data, keep_prob = False):\n",
    "    \"\"\"\n",
    "    Assuming the RBM has been trained (so that weights for the network have been learned),\n",
    "    run the network on a set of hidden units, to get a sample of the visible units.\n",
    "\n",
    "    Parameters\n",
    "    ----------\n",
    "    data: A matrix where each row consists of the states of the hidden units.\n",
    "\n",
    "    Returns\n",
    "    -------\n",
    "    visible_states: A matrix where each row consists of the visible units activated from the hidden\n",
    "    units in the data matrix passed in.\n",
    "    \"\"\"\n",
    "\n",
    "    num_examples = data.shape[0]\n",
    "\n",
    "    # Create a matrix, where each row is to be the visible units (plus a bias unit)\n",
    "    # sampled from a training example.\n",
    "    visible_states = np.ones((num_examples, self.num_visible + 1))\n",
    "\n",
    "    # Insert bias units of 1 into the first column of data.\n",
    "    data = np.insert(data, 0, 1, axis = 1)\n",
    "\n",
    "    # Calculate the activations of the visible units.\n",
    "    visible_activations = np.dot(data, self.weights.T)\n",
    "    # Calculate the probabilities of turning the visible units on.\n",
    "    visible_probs = self._logistic(visible_activations)\n",
    "    if keep_prob:\n",
    "        visible_states[:,:] = visible_probs\n",
    "    else:\n",
    "        # Turn the visible units on with their specified probabilities.\n",
    "        visible_states[:,:] = visible_probs > np.random.rand(num_examples, self.num_visible + 1)\n",
    "        # Always fix the bias unit to 1.\n",
    "        # visible_states[:,0] = 1\n",
    "\n",
    "    # Ignore the bias units.\n",
    "    visible_states = visible_states[:,1:]\n",
    "    return visible_states\n",
    "    \n",
    "  def daydream(self, num_samples):\n",
    "    \"\"\"\n",
    "    Randomly initialize the visible units once, and start running alternating Gibbs sampling steps\n",
    "    (where each step consists of updating all the hidden units, and then updating all of the visible units),\n",
    "    taking a sample of the visible units at each step.\n",
    "    Note that we only initialize the network *once*, so these samples are correlated.\n",
    "\n",
    "    Returns\n",
    "    -------\n",
    "    samples: A matrix, where each row is a sample of the visible units produced while the network was\n",
    "    daydreaming.\n",
    "    \"\"\"\n",
    "\n",
    "    # Create a matrix, where each row is to be a sample of of the visible units \n",
    "    # (with an extra bias unit), initialized to all ones.\n",
    "    samples = np.ones((num_samples, self.num_visible + 1))\n",
    "\n",
    "    # Take the first sample from a uniform distribution.\n",
    "    samples[0,1:] = np.random.rand(self.num_visible)\n",
    "\n",
    "    # Start the alternating Gibbs sampling.\n",
    "    # Note that we keep the hidden units binary states, but leave the\n",
    "    # visible units as real probabilities. See section 3 of Hinton's\n",
    "    # \"A Practical Guide to Training Restricted Boltzmann Machines\"\n",
    "    # for more on why.\n",
    "    for i in range(1, num_samples):\n",
    "      visible = samples[i-1,:]\n",
    "\n",
    "      # Calculate the activations of the hidden units.\n",
    "      hidden_activations = np.dot(visible, self.weights)      \n",
    "      # Calculate the probabilities of turning the hidden units on.\n",
    "      hidden_probs = self._logistic(hidden_activations)\n",
    "      # Turn the hidden units on with their specified probabilities.\n",
    "      hidden_states = hidden_probs > np.random.rand(self.num_hidden + 1)\n",
    "      # Always fix the bias unit to 1.\n",
    "      hidden_states[0] = 1\n",
    "\n",
    "      # Recalculate the probabilities that the visible units are on.\n",
    "      visible_activations = np.dot(hidden_states, self.weights.T)\n",
    "      visible_probs = self._logistic(visible_activations)\n",
    "      visible_states = visible_probs > np.random.rand(self.num_visible + 1)\n",
    "      samples[i,:] = visible_states\n",
    "\n",
    "    # Ignore the bias units (the first column), since they're always set to 1.\n",
    "    return samples[:,1:]        \n",
    "      \n",
    "  def _logistic(self, x):\n",
    "    return 1.0 / (1 + np.exp(-x))"
   ]
  },
  {
   "cell_type": "markdown",
   "metadata": {},
   "source": [
    "## 载入数据集"
   ]
  },
  {
   "cell_type": "code",
   "execution_count": 3,
   "metadata": {},
   "outputs": [
    {
     "data": {
      "text/html": [
       "<div>\n",
       "<style>\n",
       "    .dataframe thead tr:only-child th {\n",
       "        text-align: right;\n",
       "    }\n",
       "\n",
       "    .dataframe thead th {\n",
       "        text-align: left;\n",
       "    }\n",
       "\n",
       "    .dataframe tbody tr th {\n",
       "        vertical-align: top;\n",
       "    }\n",
       "</style>\n",
       "<table border=\"1\" class=\"dataframe\">\n",
       "  <thead>\n",
       "    <tr style=\"text-align: right;\">\n",
       "      <th></th>\n",
       "      <th>userId</th>\n",
       "      <th>movieId</th>\n",
       "      <th>rating</th>\n",
       "      <th>timestamp</th>\n",
       "    </tr>\n",
       "  </thead>\n",
       "  <tbody>\n",
       "    <tr>\n",
       "      <th>0</th>\n",
       "      <td>1</td>\n",
       "      <td>31</td>\n",
       "      <td>2.5</td>\n",
       "      <td>1260759144</td>\n",
       "    </tr>\n",
       "    <tr>\n",
       "      <th>1</th>\n",
       "      <td>1</td>\n",
       "      <td>1029</td>\n",
       "      <td>3.0</td>\n",
       "      <td>1260759179</td>\n",
       "    </tr>\n",
       "    <tr>\n",
       "      <th>2</th>\n",
       "      <td>1</td>\n",
       "      <td>1061</td>\n",
       "      <td>3.0</td>\n",
       "      <td>1260759182</td>\n",
       "    </tr>\n",
       "    <tr>\n",
       "      <th>3</th>\n",
       "      <td>1</td>\n",
       "      <td>1129</td>\n",
       "      <td>2.0</td>\n",
       "      <td>1260759185</td>\n",
       "    </tr>\n",
       "    <tr>\n",
       "      <th>4</th>\n",
       "      <td>1</td>\n",
       "      <td>1172</td>\n",
       "      <td>4.0</td>\n",
       "      <td>1260759205</td>\n",
       "    </tr>\n",
       "  </tbody>\n",
       "</table>\n",
       "</div>"
      ],
      "text/plain": [
       "   userId  movieId  rating   timestamp\n",
       "0       1       31     2.5  1260759144\n",
       "1       1     1029     3.0  1260759179\n",
       "2       1     1061     3.0  1260759182\n",
       "3       1     1129     2.0  1260759185\n",
       "4       1     1172     4.0  1260759205"
      ]
     },
     "execution_count": 3,
     "metadata": {},
     "output_type": "execute_result"
    }
   ],
   "source": [
    "# MovieLens数据集\n",
    "ratings = pd.read_csv('ratings.csv')\n",
    "ratings.head()"
   ]
  },
  {
   "cell_type": "code",
   "execution_count": 4,
   "metadata": {},
   "outputs": [
    {
     "data": {
      "text/plain": [
       "userId       100004\n",
       "movieId      100004\n",
       "rating       100004\n",
       "timestamp    100004\n",
       "dtype: int64"
      ]
     },
     "execution_count": 4,
     "metadata": {},
     "output_type": "execute_result"
    }
   ],
   "source": [
    "ratings.count()"
   ]
  },
  {
   "cell_type": "code",
   "execution_count": 5,
   "metadata": {},
   "outputs": [
    {
     "data": {
      "text/plain": [
       "array([[   1,   31],\n",
       "       [   1, 1029],\n",
       "       [   1, 1061],\n",
       "       ...,\n",
       "       [ 671, 6365],\n",
       "       [ 671, 6385],\n",
       "       [ 671, 6565]], dtype=int64)"
      ]
     },
     "execution_count": 5,
     "metadata": {},
     "output_type": "execute_result"
    }
   ],
   "source": [
    "data = ratings[['userId', 'movieId']].values\n",
    "data"
   ]
  },
  {
   "cell_type": "code",
   "execution_count": 6,
   "metadata": {},
   "outputs": [
    {
     "data": {
      "text/plain": [
       "(100004, 2)"
      ]
     },
     "execution_count": 6,
     "metadata": {},
     "output_type": "execute_result"
    }
   ],
   "source": [
    "data.shape"
   ]
  },
  {
   "cell_type": "code",
   "execution_count": 7,
   "metadata": {},
   "outputs": [
    {
     "data": {
      "image/png": "[encoded data removed]",
      "text/plain": [
       "<matplotlib.figure.Figure at 0x26fc734d320>"
      ]
     },
     "metadata": {},
     "output_type": "display_data"
    }
   ],
   "source": [
    "plt.hist(data[:,1]);"
   ]
  },
  {
   "cell_type": "markdown",
   "metadata": {
    "collapsed": true
   },
   "source": [
    "## 重新编排ID"
   ]
  },
  {
   "cell_type": "code",
   "execution_count": 8,
   "metadata": {
    "collapsed": true
   },
   "outputs": [],
   "source": [
    "def unique_data(data):\n",
    "    index = 0\n",
    "    table = {}\n",
    "    reverse = {}\n",
    "    unique = []\n",
    "    for x in data:\n",
    "        if x not in table:\n",
    "            index += 1\n",
    "            table[x] = index\n",
    "            reverse[index] = x\n",
    "        unique.append(table[x])\n",
    "    return np.array(unique), table, reverse"
   ]
  },
  {
   "cell_type": "code",
   "execution_count": 9,
   "metadata": {
    "collapsed": true
   },
   "outputs": [],
   "source": [
    "user_unique, user_table, user_reverse = unique_data(data[:,0])\n",
    "movie_unique, movie_table, movie_reverse = unique_data(data[:,1])\n",
    "data_unique = np.array([user_unique, movie_unique]).T"
   ]
  },
  {
   "cell_type": "code",
   "execution_count": 10,
   "metadata": {},
   "outputs": [
    {
     "data": {
      "text/plain": [
       "array([[   1,    1],\n",
       "       [   1,    2],\n",
       "       [   1,    3],\n",
       "       ...,\n",
       "       [ 671, 1330],\n",
       "       [ 671, 1332],\n",
       "       [ 671, 2947]])"
      ]
     },
     "execution_count": 10,
     "metadata": {},
     "output_type": "execute_result"
    }
   ],
   "source": [
    "data_unique"
   ]
  },
  {
   "cell_type": "code",
   "execution_count": 11,
   "metadata": {},
   "outputs": [
    {
     "data": {
      "image/png": "[encoded data removed]",
      "text/plain": [
       "<matplotlib.figure.Figure at 0x26fc734d240>"
      ]
     },
     "metadata": {},
     "output_type": "display_data"
    }
   ],
   "source": [
    "plt.hist(data_unique[:,1]);"
   ]
  },
  {
   "cell_type": "markdown",
   "metadata": {},
   "source": [
    "## 分割数据集"
   ]
  },
  {
   "cell_type": "code",
   "execution_count": 12,
   "metadata": {},
   "outputs": [
    {
     "data": {
      "text/plain": [
       "671"
      ]
     },
     "execution_count": 12,
     "metadata": {},
     "output_type": "execute_result"
    }
   ],
   "source": [
    "user_num = user_unique.max()\n",
    "user_num"
   ]
  },
  {
   "cell_type": "code",
   "execution_count": 13,
   "metadata": {},
   "outputs": [
    {
     "data": {
      "text/plain": [
       "9066"
      ]
     },
     "execution_count": 13,
     "metadata": {},
     "output_type": "execute_result"
    }
   ],
   "source": [
    "movie_num = movie_unique.max()\n",
    "movie_num"
   ]
  },
  {
   "cell_type": "code",
   "execution_count": 14,
   "metadata": {},
   "outputs": [
    {
     "data": {
      "text/plain": [
       "array([[1., 1., 1., ..., 0., 0., 0.],\n",
       "       [0., 0., 0., ..., 0., 0., 0.],\n",
       "       [0., 0., 0., ..., 0., 0., 0.],\n",
       "       ...,\n",
       "       [0., 0., 0., ..., 0., 0., 0.],\n",
       "       [0., 0., 0., ..., 0., 0., 0.],\n",
       "       [0., 0., 0., ..., 0., 0., 0.]])"
      ]
     },
     "execution_count": 14,
     "metadata": {},
     "output_type": "execute_result"
    }
   ],
   "source": [
    "# 完整数据集矩阵\n",
    "full_matrix = np.zeros((user_num, movie_num))\n",
    "for user, movie in data_unique:\n",
    "    full_matrix[user - 1, movie - 1] = 1\n",
    "full_matrix"
   ]
  },
  {
   "cell_type": "code",
   "execution_count": 15,
   "metadata": {
    "scrolled": true
   },
   "outputs": [
    {
     "data": {
      "text/plain": [
       "(671, 9066)"
      ]
     },
     "execution_count": 15,
     "metadata": {},
     "output_type": "execute_result"
    }
   ],
   "source": [
    "full_matrix.shape"
   ]
  },
  {
   "cell_type": "code",
   "execution_count": 16,
   "metadata": {
    "collapsed": true
   },
   "outputs": [],
   "source": [
    "# 随机从观影数量至少40部的用户中抽取5部影片作为测试集，选择25%的用户作为测试\n",
    "least_item = 40\n",
    "test_sample_num = 5\n",
    "indexes = pd.Series(np.where(full_matrix.sum(axis=1) >= least_item)[0])\n",
    "choosed_indexes = indexes.sample(user_num // 4, random_state=47)\n",
    "\n",
    "# 生成测试集\n",
    "test_matrix = np.zeros((user_num, movie_num))\n",
    "for index in choosed_indexes:\n",
    "    item_indexes = pd.Series(np.where(full_matrix[index] == 1)[0])\n",
    "    choosed_item_indexes = item_indexes.sample(test_sample_num, random_state=47)\n",
    "    test_matrix[index, choosed_item_indexes] = 1\n",
    "    \n",
    "# 生成训练集\n",
    "train_matrix = full_matrix - test_matrix"
   ]
  },
  {
   "cell_type": "code",
   "execution_count": 17,
   "metadata": {},
   "outputs": [
    {
     "data": {
      "text/plain": [
       "99169.0"
      ]
     },
     "execution_count": 17,
     "metadata": {},
     "output_type": "execute_result"
    }
   ],
   "source": [
    "train_matrix.sum()"
   ]
  },
  {
   "cell_type": "code",
   "execution_count": 18,
   "metadata": {},
   "outputs": [
    {
     "data": {
      "text/plain": [
       "835.0"
      ]
     },
     "execution_count": 18,
     "metadata": {},
     "output_type": "execute_result"
    }
   ],
   "source": [
    "test_matrix.sum()"
   ]
  },
  {
   "cell_type": "code",
   "execution_count": 19,
   "metadata": {},
   "outputs": [
    {
     "data": {
      "text/plain": [
       "100004.0"
      ]
     },
     "execution_count": 19,
     "metadata": {},
     "output_type": "execute_result"
    }
   ],
   "source": [
    "full_matrix.sum()"
   ]
  },
  {
   "cell_type": "markdown",
   "metadata": {},
   "source": [
    "## 训练RBM模型"
   ]
  },
  {
   "cell_type": "code",
   "execution_count": 20,
   "metadata": {
    "collapsed": true
   },
   "outputs": [],
   "source": [
    "# 从文件中读取上次训练完毕的模型\n",
    "weights = None\n",
    "\n",
    "try:\n",
    "    fr = open('rbm_weights','rb')\n",
    "    weights = pickle.load(fr)\n",
    "    fr.close()\n",
    "except IOError:\n",
    "    print(\"File is not accessible.\")"
   ]
  },
  {
   "cell_type": "code",
   "execution_count": 21,
   "metadata": {
    "collapsed": true
   },
   "outputs": [],
   "source": [
    "r = RBM(num_visible = movie_num, num_hidden = 300, weights = weights)"
   ]
  },
  {
   "cell_type": "code",
   "execution_count": 22,
   "metadata": {
    "scrolled": false
   },
   "outputs": [
    {
     "name": "stderr",
     "output_type": "stream",
     "text": [
      "D:\\ProgramData\\Anaconda3\\lib\\site-packages\\ipykernel_launcher.py:205: RuntimeWarning: overflow encountered in exp\n"
     ]
    },
    {
     "name": "stdout",
     "output_type": "stream",
     "text": [
      "Epoch 0: error is 15420.140518350538\n",
      "Epoch 100: error is 15357.715290381298\n",
      "Epoch 200: error is 15258.16906057091\n",
      "Epoch 300: error is 15254.256368927656\n",
      "Epoch 400: error is 15201.473567412238\n"
     ]
    }
   ],
   "source": [
    "r.train(train_matrix, max_epochs = 500, learning_rate = 1)"
   ]
  },
  {
   "cell_type": "code",
   "execution_count": 23,
   "metadata": {
    "collapsed": true
   },
   "outputs": [],
   "source": [
    "# 将此次训练完毕的模型存入文件\n",
    "try:\n",
    "    fw = open('rbm_weights','wb')\n",
    "    pickle.dump(r.weights, fw)\n",
    "    fw.close()\n",
    "except IOError:\n",
    "    print(\"File is not accessible.\")"
   ]
  },
  {
   "cell_type": "code",
   "execution_count": 24,
   "metadata": {},
   "outputs": [
    {
     "data": {
      "text/plain": [
       "(9067, 301)"
      ]
     },
     "execution_count": 24,
     "metadata": {},
     "output_type": "execute_result"
    }
   ],
   "source": [
    "r.weights.shape"
   ]
  },
  {
   "cell_type": "markdown",
   "metadata": {},
   "source": [
    "## 测试集效果验证准备"
   ]
  },
  {
   "cell_type": "code",
   "execution_count": 25,
   "metadata": {
    "collapsed": true
   },
   "outputs": [],
   "source": [
    "# 计算准确率和召回率\n",
    "def compute_score(test, pred):\n",
    "    Y = test.flatten()\n",
    "    P = pred.flatten()\n",
    "    hit = sum(Y * P)\n",
    "    precision = hit / sum(P)\n",
    "    recall = hit / sum(Y)\n",
    "    return precision, recall"
   ]
  },
  {
   "cell_type": "code",
   "execution_count": 26,
   "metadata": {},
   "outputs": [
    {
     "data": {
      "text/plain": [
       "(167, 9066)"
      ]
     },
     "execution_count": 26,
     "metadata": {},
     "output_type": "execute_result"
    }
   ],
   "source": [
    "mini_train_matrix = train_matrix[choosed_indexes]\n",
    "mini_train_matrix.shape"
   ]
  },
  {
   "cell_type": "code",
   "execution_count": 27,
   "metadata": {},
   "outputs": [
    {
     "data": {
      "text/plain": [
       "(167, 9066)"
      ]
     },
     "execution_count": 27,
     "metadata": {},
     "output_type": "execute_result"
    }
   ],
   "source": [
    "mini_test_matrix = test_matrix[choosed_indexes]\n",
    "mini_test_matrix.shape"
   ]
  },
  {
   "cell_type": "code",
   "execution_count": 28,
   "metadata": {
    "collapsed": true
   },
   "outputs": [],
   "source": [
    "# topN推荐，取5部电影\n",
    "topN = 5"
   ]
  },
  {
   "cell_type": "markdown",
   "metadata": {},
   "source": [
    "## 计算RBM的准确率和召回率"
   ]
  },
  {
   "cell_type": "code",
   "execution_count": 29,
   "metadata": {},
   "outputs": [
    {
     "name": "stderr",
     "output_type": "stream",
     "text": [
      "D:\\ProgramData\\Anaconda3\\lib\\site-packages\\ipykernel_launcher.py:205: RuntimeWarning: overflow encountered in exp\n"
     ]
    }
   ],
   "source": [
    "# hidden = r.run_visible(mini_train_matrix)\n",
    "hidden = r.run_visible(mini_train_matrix, keep_prob=True) >= 0.5\n",
    "pred_prob_matrix = r.run_hidden(hidden, keep_prob=True)\n",
    "pred_prob_matrix[mini_train_matrix == 1] = 0\n",
    "top_indexes = pred_prob_matrix.argpartition(-topN)[:, -topN:]\n",
    "pred_matrix = np.zeros_like(mini_train_matrix)\n",
    "for i in range(pred_matrix.shape[0]):\n",
    "    pred_matrix[i, top_indexes[i]] = 1"
   ]
  },
  {
   "cell_type": "code",
   "execution_count": 30,
   "metadata": {},
   "outputs": [
    {
     "data": {
      "text/plain": [
       "(0.0658682634730539, 0.0658682634730539)"
      ]
     },
     "execution_count": 30,
     "metadata": {},
     "output_type": "execute_result"
    }
   ],
   "source": [
    "compute_score(mini_test_matrix, pred_matrix)"
   ]
  },
  {
   "cell_type": "markdown",
   "metadata": {},
   "source": [
    "## 计算热门推荐的准确率和召回率"
   ]
  },
  {
   "cell_type": "code",
   "execution_count": 31,
   "metadata": {},
   "outputs": [
    {
     "data": {
      "text/plain": [
       "array([40., 40., 33., ...,  1.,  1.,  1.])"
      ]
     },
     "execution_count": 31,
     "metadata": {},
     "output_type": "execute_result"
    }
   ],
   "source": [
    "# 提前计算好各影片的热度，即被观看的次数\n",
    "popularity = train_matrix.sum(axis=0)\n",
    "popularity"
   ]
  },
  {
   "cell_type": "code",
   "execution_count": 32,
   "metadata": {
    "collapsed": true
   },
   "outputs": [],
   "source": [
    "# 构建热度矩阵\n",
    "popularity_matrix = np.zeros_like(mini_train_matrix)\n",
    "popularity_matrix[:,] = popularity\n",
    "# 去除该用户已经观看过的影片\n",
    "popularity_matrix[mini_train_matrix == 1] = 0\n",
    "# 热度矩阵的topN排序，按行分别排序，取前topN个\n",
    "top_indexes = popularity_matrix.argpartition(-topN)[:, -topN:]\n",
    "\n",
    "# 构建预测矩阵\n",
    "pred_matrix = np.zeros_like(mini_train_matrix)\n",
    "# 生成预测矩阵\n",
    "for i in range(pred_matrix.shape[0]):\n",
    "    pred_matrix[i, top_indexes[i]] = 1"
   ]
  },
  {
   "cell_type": "code",
   "execution_count": 33,
   "metadata": {},
   "outputs": [
    {
     "data": {
      "text/plain": [
       "(0.05748502994011976, 0.05748502994011976)"
      ]
     },
     "execution_count": 33,
     "metadata": {},
     "output_type": "execute_result"
    }
   ],
   "source": [
    "compute_score(mini_test_matrix, pred_matrix)"
   ]
  },
  {
   "cell_type": "markdown",
   "metadata": {},
   "source": [
    "## 计算ItemCF的准确率的召回率"
   ]
  },
  {
   "cell_type": "code",
   "execution_count": 34,
   "metadata": {},
   "outputs": [
    {
     "data": {
      "text/plain": [
       "array([6.32455532, 6.32455532, 5.74456265, ..., 1.        , 1.        ,\n",
       "       1.        ])"
      ]
     },
     "execution_count": 34,
     "metadata": {},
     "output_type": "execute_result"
    }
   ],
   "source": [
    "# 提前计算好各影片被观看的次数，用于计算余弦相似性\n",
    "models = np.sqrt(train_matrix.sum(axis=0))\n",
    "models"
   ]
  },
  {
   "cell_type": "code",
   "execution_count": 35,
   "metadata": {
    "collapsed": true
   },
   "outputs": [],
   "source": [
    "# 计算用户活跃度\n",
    "user_activity = np.log(1 + train_matrix.sum(axis=1))\n",
    "# 计算带有活跃度惩罚的训练矩阵\n",
    "uif_train_matrix = train_matrix / user_activity.reshape(train_matrix.shape[0], 1)"
   ]
  },
  {
   "cell_type": "code",
   "execution_count": 36,
   "metadata": {},
   "outputs": [
    {
     "name": "stdout",
     "output_type": "stream",
     "text": [
      "movie 0\n",
      "movie 1000\n",
      "movie 2000\n",
      "movie 3000\n",
      "movie 4000\n",
      "movie 5000\n",
      "movie 6000\n",
      "movie 7000\n",
      "movie 8000\n",
      "movie 9000\n"
     ]
    }
   ],
   "source": [
    "# 计算影片之间的余弦相似性矩阵\n",
    "similarity_matrix = np.zeros((movie_num, movie_num))\n",
    "for i in range(movie_num):\n",
    "    if i % 1000 == 0:\n",
    "        print('movie',i)\n",
    "    if models[i] > 0:\n",
    "        for j in range(i + 1, movie_num):\n",
    "            deno = models[i] * models[j]\n",
    "            if deno > 0:\n",
    "                item1 = uif_train_matrix[:,i]\n",
    "                item2 = uif_train_matrix[:,j]\n",
    "                similarity = item1 @ item2 / deno # 计算余弦相似性\n",
    "                similarity_matrix[i, j] = similarity\n",
    "                similarity_matrix[j, i] = similarity"
   ]
  },
  {
   "cell_type": "code",
   "execution_count": 37,
   "metadata": {},
   "outputs": [
    {
     "data": {
      "text/plain": [
       "array([[0.        , 0.00532932, 0.00909425, ..., 0.        , 0.        ,\n",
       "        0.        ],\n",
       "       [0.00532932, 0.        , 0.00679634, ..., 0.00430014, 0.00430014,\n",
       "        0.        ],\n",
       "       [0.00909425, 0.00679634, 0.        , ..., 0.0047343 , 0.0047343 ,\n",
       "        0.        ],\n",
       "       ...,\n",
       "       [0.        , 0.00430014, 0.0047343 , ..., 0.        , 0.02719646,\n",
       "        0.        ],\n",
       "       [0.        , 0.00430014, 0.0047343 , ..., 0.02719646, 0.        ,\n",
       "        0.        ],\n",
       "       [0.        , 0.        , 0.        , ..., 0.        , 0.        ,\n",
       "        0.        ]])"
      ]
     },
     "execution_count": 37,
     "metadata": {},
     "output_type": "execute_result"
    }
   ],
   "source": [
    "# 影片之间的余弦相似性矩阵\n",
    "similarity_matrix"
   ]
  },
  {
   "cell_type": "code",
   "execution_count": 38,
   "metadata": {},
   "outputs": [
    {
     "data": {
      "text/plain": [
       "array([[0.        , 0.31241936, 0.53312969, ..., 0.        , 0.        ,\n",
       "        0.        ],\n",
       "       [0.2986048 , 0.        , 0.38080251, ..., 0.24093896, 0.24093896,\n",
       "        0.        ],\n",
       "       [0.59732885, 0.44639732, 0.        , ..., 0.31095807, 0.31095807,\n",
       "        0.        ],\n",
       "       ...,\n",
       "       [0.        , 0.1581133 , 0.17407702, ..., 0.        , 0.99999632,\n",
       "        0.        ],\n",
       "       [0.        , 0.1581133 , 0.17407702, ..., 0.99999632, 0.        ,\n",
       "        0.        ],\n",
       "       [0.        , 0.        , 0.        , ..., 0.        , 0.        ,\n",
       "        0.        ]])"
      ]
     },
     "execution_count": 38,
     "metadata": {},
     "output_type": "execute_result"
    }
   ],
   "source": [
    "# 对余弦相似性矩阵进行归一化（归一化实际效果并不好，未采用）\n",
    "max_similarity = similarity_matrix.max(axis=1).reshape(similarity_matrix.shape[0], 1)\n",
    "normalized_similarity_matrix = similarity_matrix / (max_similarity + 1e-7)\n",
    "normalized_similarity_matrix"
   ]
  },
  {
   "cell_type": "code",
   "execution_count": 39,
   "metadata": {
    "collapsed": true,
    "scrolled": false
   },
   "outputs": [],
   "source": [
    "# 构建预测矩阵\n",
    "pred_matrix = np.zeros_like(mini_train_matrix)\n",
    "\n",
    "# 生成预测矩阵\n",
    "for i in range(mini_train_matrix.shape[0]):\n",
    "    item_slice = mini_train_matrix[i] == 1\n",
    "    # 第i个用户观看过的所有影片组成的影片相似性子表\n",
    "    sub_similarity_matrix = similarity_matrix[item_slice]\n",
    "    # 从影片相似性子表中去除该用户已经观看过的影片\n",
    "    sub_similarity_matrix[:, item_slice] = 0\n",
    "    # 影片相似性子表的topN排序，按行分别排序，取前topN个\n",
    "    selected_indexes = sub_similarity_matrix.argpartition(-topN)[:, -topN:]\n",
    "    # 获取所有入选影片的index列表\n",
    "    selected_index_list = np.array(list(set(selected_indexes.flatten())))\n",
    "    # 入选影片相似性子表\n",
    "    selected_sub_matrix = similarity_matrix[selected_index_list]\n",
    "    selected_sub_matrix = selected_sub_matrix[:, item_slice]\n",
    "    # 入选影片与该用户观看过的影片相似性求和，作为分数\n",
    "    score_sum = selected_sub_matrix.sum(axis=1)\n",
    "    # 获取分数最高的前topN影片index\n",
    "    top_sum_indexes = selected_index_list[score_sum.argpartition(-topN)[-topN:]]\n",
    "    # 预测该用户的topN影片\n",
    "    pred_matrix[i, top_sum_indexes] = 1"
   ]
  },
  {
   "cell_type": "code",
   "execution_count": 40,
   "metadata": {},
   "outputs": [
    {
     "data": {
      "text/plain": [
       "(0.10538922155688622, 0.10538922155688622)"
      ]
     },
     "execution_count": 40,
     "metadata": {},
     "output_type": "execute_result"
    }
   ],
   "source": [
    "compute_score(mini_test_matrix, pred_matrix)"
   ]
  }
 ],
 "metadata": {
  "kernelspec": {
   "display_name": "Python 3",
   "language": "python",
   "name": "python3"
  },
  "language_info": {
   "codemirror_mode": {
    "name": "ipython",
    "version": 3
   },
   "file_extension": ".py",
   "mimetype": "text/x-python",
   "name": "python",
   "nbconvert_exporter": "python",
   "pygments_lexer": "ipython3",
   "version": "3.6.3"
  }
 },
 "nbformat": 4,
 "nbformat_minor": 2
}
